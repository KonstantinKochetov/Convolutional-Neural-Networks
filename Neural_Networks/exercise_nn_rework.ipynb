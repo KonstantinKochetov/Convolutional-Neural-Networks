{
 "cells": [
  {
   "cell_type": "markdown",
   "metadata": {},
   "source": [
    "# ML-Fundamentals - Neural Networks - Exercise: Minimal Fully Connected Network for MNIST"
   ]
  },
  {
   "cell_type": "markdown",
   "metadata": {},
   "source": [
    "## Table of Contents\n",
    "* [Requirements](#Requirements) \n",
    "  * [Modules](#Python-Modules) \n",
    "  * [Data](#Data)\n",
    "* [Simple MNIST Network](#Simple-MNIST-Network)\n",
    "  * [Todo: Transparency](#Todo:-Transparency)\n",
    "  * [Todo: Comprehension](#Todo:-Comprehension)\n",
    "  * [Todo: Step towards a NN-Framework](#Todo:-Step-towards-a-NN-Framework)"
   ]
  },
  {
   "cell_type": "markdown",
   "metadata": {},
   "source": [
    "# Requirements\n"
   ]
  },
  {
   "cell_type": "markdown",
   "metadata": {},
   "source": [
    "## Python-Modules"
   ]
  },
  {
   "cell_type": "code",
   "execution_count": 3,
   "metadata": {},
   "outputs": [],
   "source": [
    "# third party\n",
    "import numpy as np\n",
    "import matplotlib.pyplot as plt\n",
    "\n",
    "# internal\n",
    "from deep_teaching_commons.data.fundamentals.mnist import Mnist"
   ]
  },
  {
   "cell_type": "markdown",
   "metadata": {},
   "source": [
    "## Data"
   ]
  },
  {
   "cell_type": "code",
   "execution_count": 36,
   "metadata": {},
   "outputs": [
    {
     "name": "stdout",
     "output_type": "stream",
     "text": [
      "auto download is active, attempting download\n",
      "mnist data directory already exists, download aborted\n"
     ]
    }
   ],
   "source": [
    "# create mnist loader from deep_teaching_commons\n",
    "mnist_loader = Mnist(data_dir='data')\n",
    "\n",
    "# load all data, labels are one-hot-encoded, images are flatten and pixel squashed between [0,1]\n",
    "train_images, train_labels, test_images, test_labels = mnist_loader.get_all_data(one_hot_enc=True, normalized=True)\n",
    "\n",
    "# shuffle training data\n",
    "shuffle_index = np.random.permutation(60000)\n",
    "train_images, train_labels = train_images[shuffle_index], train_labels[shuffle_index]"
   ]
  },
  {
   "cell_type": "markdown",
   "metadata": {},
   "source": [
    "# Simple MNIST Network\n",
    "The presented network is an adaptation of Michael Nielson's introductory example to neural networks. It is recommended, though not necessary, to read the first two chapters of his great online book ['Neural Networks and Deep Learning'](http://neuralnetworksanddeeplearning.com/) for a better understanding of the given example. Compared to the [original](https://github.com/mnielsen/neural-networks-and-deep-learning/blob/master/src/network.py) by Nielsen, the present variant was vectorized and the sigmoid activation function replaced by a rectified linear unit function (ReLU). As a result, the code is written much more compact, and the optimization of the model is much more efficient. "
   ]
  },
  {
   "cell_type": "markdown",
   "metadata": {},
   "source": [
    "## Todo: Transparency\n",
    "Your goal is to understand how the implementation works. Therefore you can do the following:\n",
    "  - Add comments to functions and lines of code. Follow the [Google-Pyhton](https://google.github.io/styleguide/pyguide.html) guidelines for comments.\n",
    "  - Add a verbose argument (`boolean`) to the functions that adds meaningful `print` lines to the network, if it is `true`.\n",
    "  - Add a variable `delta_hist` which store the delta value calculated on the output layer during each iteration of the function `grads(X,Y,weights)`. After the optimization process plot `delta_hist`.\n",
    "  \n",
    "Hopefully, this implementation of a neural network is clear after your investigation. You should be able to answer following questions:\n",
    "  - Which cost function is used, what is its derivation and how is it implemented?\n",
    "  - Why are the boundaries of your plot between [-1,0], why it is so noisy, how do you can reduce the noice and what is the difference to a usual plot of a loss function?\n",
    "  - How does the network implement the backpropagation algorithm?"
   ]
  },
  {
   "cell_type": "code",
   "execution_count": 50,
   "metadata": {},
   "outputs": [
    {
     "name": "stdout",
     "output_type": "stream",
     "text": [
      "Epoch: 0 Accuracy: 0.9415 Delta: -0.14625877951363583\n",
      "0 0.9415\n",
      "Epoch: 1 Accuracy: 0.9561 Delta: -0.10825622347166174\n",
      "1 0.9561\n",
      "Epoch: 2 Accuracy: 0.9625 Delta: -0.08223959337684093\n",
      "2 0.9625\n",
      "Epoch: 3 Accuracy: 0.9646 Delta: -0.06927645419738085\n",
      "3 0.9646\n",
      "Epoch: 4 Accuracy: 0.9666 Delta: -0.06254370035329403\n",
      "4 0.9666\n",
      "Epoch: 5 Accuracy: 0.9684 Delta: -0.05542531113088508\n",
      "5 0.9684\n",
      "Epoch: 6 Accuracy: 0.9704 Delta: -0.05189159048314188\n",
      "6 0.9704\n",
      "Epoch: 7 Accuracy: 0.9711 Delta: -0.04986713777094591\n",
      "7 0.9711\n",
      "Epoch: 8 Accuracy: 0.9724 Delta: -0.04627392088125384\n",
      "8 0.9724\n",
      "Epoch: 9 Accuracy: 0.972 Delta: -0.04413537415111178\n",
      "9 0.972\n",
      "Epoch: 10 Accuracy: 0.9724 Delta: -0.04130218541421942\n",
      "10 0.9724\n",
      "Epoch: 11 Accuracy: 0.9737 Delta: -0.037527489791031154\n",
      "11 0.9737\n",
      "Epoch: 12 Accuracy: 0.9746 Delta: -0.035757071002013106\n",
      "12 0.9746\n",
      "Epoch: 13 Accuracy: 0.9755 Delta: -0.03412145312117636\n",
      "13 0.9755\n",
      "Epoch: 14 Accuracy: 0.9757 Delta: -0.032311800880716\n",
      "14 0.9757\n",
      "Epoch: 15 Accuracy: 0.9759 Delta: -0.029080250743581004\n",
      "15 0.9759\n",
      "Epoch: 16 Accuracy: 0.9762 Delta: -0.025322266715322016\n",
      "16 0.9762\n",
      "Epoch: 17 Accuracy: 0.9764 Delta: -0.024440073187588437\n",
      "17 0.9764\n",
      "Epoch: 18 Accuracy: 0.9764 Delta: -0.02197338658253524\n",
      "18 0.9764\n",
      "Epoch: 19 Accuracy: 0.9767 Delta: -0.021490463837229346\n",
      "19 0.9767\n"
     ]
    },
    {
     "data": {
      "text/plain": [
       "(-1, 0)"
      ]
     },
     "execution_count": 50,
     "metadata": {},
     "output_type": "execute_result"
    },
    {
     "data": {
      "image/png": "[encoded data removed]",
      "text/plain": [
       "<matplotlib.figure.Figure at 0x115172198>"
      ]
     },
     "metadata": {},
     "output_type": "display_data"
    }
   ],
   "source": [
    "delta_hist =[]\n",
    "\n",
    "def feed_forward(X, weights):\n",
    "    \"\"\"Preforms the forward pass.\n",
    "    \n",
    "    Retrieves the inputs and the weights.\n",
    "    And does a matrix multiplication\n",
    "    \n",
    "    \n",
    "        Args:\n",
    "            X: A batch of inputs\n",
    "            weights: The weights\n",
    "            \n",
    "        Returns:\n",
    "            A batch of calculated outputs\n",
    "        \n",
    "    \"\"\"\n",
    "    \n",
    "    a = [X]\n",
    "    for w in weights:\n",
    "        a.append(np.maximum(a[-1].dot(w),0)) # probably it takes element from right (in our case it takes just mnist data (10000, 784); np.max... is comparing max element-wise with 0\n",
    "        # we multiply one each with all weights\n",
    "    return a # a.append(max(Wx, 0))\n",
    "\n",
    "def grads(X, Y, weights):\n",
    "    \"\"\"Calculates the gradiants and preforms the backpropagation\n",
    "    \n",
    "    This function calculates the gradients and passes the \n",
    "    new weights together with the inputs to forward pass.\n",
    "    \n",
    "        Args:\n",
    "            X: A batch of inputs\n",
    "            Y: A batch of labels\n",
    "            weights: weights to calculate the new gradient\n",
    "        \n",
    "        Returns:\n",
    "            The new gradients\n",
    "\n",
    "    \"\"\"\n",
    "    \n",
    "    grads = np.empty_like(weights) # initialize grads with the same shape and type as weights\n",
    "    a = feed_forward(X, weights)\n",
    "    # https://brilliant.org/wiki/backpropagation/ or https://stats.stackexchange.com/questions/154879/a-list-of-cost-functions-used-in-neural-networks-alongside-applications\n",
    "    delta = a[-1] - Y # distance between output and real label\n",
    "    \n",
    "    \n",
    "    delta_hist.append(np.sum(delta*Y)/len(X)) # history\n",
    "    grads[-1] = a[-2].T.dot(delta) # Look Andrew NG backprop. # This is start value of grads. Dont forget a was changed it is not X anymore\n",
    "    for i in range(len(a)-2, 0, -1): # backprop # but what is len(a)-2? # range(start, finish, step)\n",
    "        delta = (a[i] > 0) * delta.dot(weights[i].T)\n",
    "        grads[i-1] = a[i-1].T.dot(delta)\n",
    "    return grads / len(X) # ?\n",
    "\n",
    "trX, trY, teX, teY = train_images, train_labels, test_images, test_labels\n",
    "weights = [np.random.randn(*w) * 0.1 for w in [(784, 200), (200,100), (100, 10)]]\n",
    "num_epochs, batch_size, learn_rate = 20, 50, 0.1\n",
    "verbose = True\n",
    "for i in range(num_epochs):\n",
    "    for j in range(0, len(trX), batch_size): # range(start, finish, step)\n",
    "        X, Y = trX[j:j+batch_size], trY[j:j+batch_size]\n",
    "        weights -= learn_rate * grads(X, Y, weights)\n",
    "        once = False\n",
    "    prediction_test = np.argmax(feed_forward(teX, weights)[-1], axis=1)\n",
    "    if verbose: \n",
    "        print ('Epoch:', i, 'Accuracy:', np.mean(prediction_test == np.argmax(teY, axis=1)), 'Delta:', delta_hist[-1])\n",
    "    print (i, np.mean(prediction_test == np.argmax(teY, axis=1)))\n",
    "plt.plot(delta_hist)\n",
    "plt.ylim(ymax = 0, ymin= -1)"
   ]
  },
  {
   "cell_type": "code",
   "execution_count": 51,
   "metadata": {
    "scrolled": true
   },
   "outputs": [
    {
     "name": "stdout",
     "output_type": "stream",
     "text": [
      "(10000, 784)\n",
      "(784,)\n",
      "(3,)\n",
      "None\n",
      "1\n",
      "3\n"
     ]
    }
   ],
   "source": [
    "trX, trY, teX, teY = train_images, train_labels, test_images, test_labels\n",
    "X = teX\n",
    "a = [X]\n",
    "a = a[-1]\n",
    "print(a.shape)\n",
    "print(a[-2].shape)\n",
    "weights = [np.random.randn(*w) * 0.1 for w in [(784, 200), (200,100), (100, 10)]]\n",
    "grads = np.empty_like(weights)\n",
    "print(grads.shape)\n",
    "print(grads[-1])\n",
    "\n",
    "for i in range(1, 5, 2):\n",
    "    print(i)"
   ]
  },
  {
   "cell_type": "markdown",
   "metadata": {},
   "source": [
    "## Todo: Step towards a NN-Framework\n",
    "The presented implementation is compact and efficient, but hard to modify or extend. However, a modular design is crucial if you want to experiment with a neural network to understand the influence of its components. Now you make the first changes towards your own 'toy-neural-network-framework', which you should expand in the progress of the course. \n",
    "\n",
    "Rework the implementation from above given the classes and methods below. Again, you _do not_ have to re-engineer the whole neural network at this step. Rework the code to match the given specification and do necessary modifications only. For your understanding, you can change the names of the variables to more fitting ones."
   ]
  },
  {
   "cell_type": "code",
   "execution_count": 52,
   "metadata": {},
   "outputs": [
    {
     "name": "stdout",
     "output_type": "stream",
     "text": [
      "Epoch: 0 Accuracy: 0.8677 Delta: -0.29009037036125973\n",
      "Epoch: 1 Accuracy: 0.8995 Delta: -0.23234322683561384\n",
      "Epoch: 2 Accuracy: 0.9141 Delta: -0.20554384564647593\n",
      "Epoch: 3 Accuracy: 0.9229 Delta: -0.18855186750532166\n",
      "Epoch: 4 Accuracy: 0.9303 Delta: -0.1760347800046183\n",
      "Epoch: 5 Accuracy: 0.934 Delta: -0.16655801821459756\n",
      "Epoch: 6 Accuracy: 0.9373 Delta: -0.15879826444466097\n",
      "Epoch: 7 Accuracy: 0.9394 Delta: -0.1524628477870241\n",
      "Epoch: 8 Accuracy: 0.9412 Delta: -0.14678118151951622\n",
      "Epoch: 9 Accuracy: 0.944 Delta: -0.14156810178861554\n",
      "Epoch: 10 Accuracy: 0.9458 Delta: -0.13684954355681925\n",
      "Epoch: 11 Accuracy: 0.947 Delta: -0.13292443048766608\n",
      "Epoch: 12 Accuracy: 0.9486 Delta: -0.12927459392471477\n",
      "Epoch: 13 Accuracy: 0.9505 Delta: -0.12624083144564727\n",
      "Epoch: 14 Accuracy: 0.9515 Delta: -0.12307629612506635\n",
      "Epoch: 15 Accuracy: 0.9527 Delta: -0.12032271593199641\n",
      "Epoch: 16 Accuracy: 0.9532 Delta: -0.11759495369400401\n",
      "Epoch: 17 Accuracy: 0.9546 Delta: -0.1149147832510793\n",
      "Epoch: 18 Accuracy: 0.9556 Delta: -0.11224064322286663\n",
      "Epoch: 19 Accuracy: 0.9561 Delta: -0.11019959246438413\n",
      "Epoch: 20 Accuracy: 0.9567 Delta: -0.10813259762074952\n",
      "Epoch: 21 Accuracy: 0.9577 Delta: -0.1064604185467351\n",
      "Epoch: 22 Accuracy: 0.958 Delta: -0.10481369949937044\n",
      "Epoch: 23 Accuracy: 0.9589 Delta: -0.10313098480888967\n",
      "Epoch: 24 Accuracy: 0.9596 Delta: -0.10161985524963904\n"
     ]
    },
    {
     "data": {
      "text/plain": [
       "[<matplotlib.lines.Line2D at 0x1242f4668>]"
      ]
     },
     "execution_count": 52,
     "metadata": {},
     "output_type": "execute_result"
    },
    {
     "data": {
      "image/png": "[encoded data removed]",
      "text/plain": [
       "<matplotlib.figure.Figure at 0x1240f0198>"
      ]
     },
     "metadata": {},
     "output_type": "display_data"
    }
   ],
   "source": [
    "class FullyConnectedNetwork:\n",
    "    def __init__(self, layers):\n",
    "        self.layers = layers\n",
    "        self.weights = [np.random.randn(*weight) * 0.1 for weight in self.layers]\n",
    "        self.delta_hist = []\n",
    "        \n",
    "    def forward(self, data):\n",
    "        a = [data]\n",
    "        for weight in self.weights:\n",
    "            a.append(np.maximum(a[-1].dot(weight), 0))\n",
    "            \n",
    "        return a\n",
    "\n",
    "    def backward(self, X, Y):\n",
    "        grads = np.empty_like(self.weights)\n",
    "        a = self.forward(X)\n",
    "        delta = a[-1] - Y\n",
    "\n",
    "        self.delta_hist.append(np.sum(delta * Y) / len(X))\n",
    "        grads[-1] = a[-2].T.dot(delta)\n",
    "        \n",
    "        for i in range(len(a) - 2, 0, -1):\n",
    "            delta = (a[i] > 0) * delta.dot(self.weights[i].T)\n",
    "            grads[i - 1] = a[i - 1].T.dot(delta)\n",
    "\n",
    "        return grads / len(X)\n",
    "\n",
    "\n",
    "    def predict(self, data):\n",
    "        return self.forward(data)\n",
    "            \n",
    "class Optimizer:\n",
    "    def __init__(self, network, train_data, train_labels, test_data=None, test_labels=None, epochs=100, batch_size=20, learning_rate=0.01):\n",
    "        self.network = network\n",
    "        self.train_data = train_data\n",
    "        self.train_labels = train_labels\n",
    "        self.test_data = test_data\n",
    "        self.test_labels = test_labels\n",
    "        self.epochs = epochs\n",
    "        self.batch_size = batch_size\n",
    "        self.learning_rate = learning_rate\n",
    "        \n",
    "    def sgd(self, verbose = True):        \n",
    "        for i in range(self.epochs):\n",
    "            for j in range(0, len(self.train_data), self.batch_size):\n",
    "                X, Y = self.train_data[j:j + self.batch_size], self.train_labels[j:j + self.batch_size]\n",
    "                self.network.weights -= self.learning_rate * self.network.backward(X, Y)\n",
    "\n",
    "            prediction_test = np.argmax(self.network.predict(self.test_data)[-1], axis=1)\n",
    "            if verbose: \n",
    "                print ('Epoch:', i, 'Accuracy:', np.mean(prediction_test == np.argmax(self.test_labels, axis=1)), 'Delta:', self.network.delta_hist[-1])\n",
    "    \n",
    "    \n",
    "\n",
    "    \n",
    "# Following code should run:    \n",
    "mnist_NN = FullyConnectedNetwork([(784, 200),(200,100),(100, 10)]) \n",
    "epochs, batch_size, learning_rate = 25, 500, 0.1\n",
    "Optimizer(mnist_NN, train_images, train_labels, test_images, test_labels, epochs, batch_size, learning_rate).sgd(True)\n",
    "\n",
    "plt.plot(mnist_NN.delta_hist)"
   ]
  },
  {
   "cell_type": "code",
   "execution_count": null,
   "metadata": {},
   "outputs": [],
   "source": []
  }
 ],
 "metadata": {
  "kernelspec": {
   "display_name": "Python 3",
   "language": "python",
   "name": "python3"
  },
  "language_info": {
   "codemirror_mode": {
    "name": "ipython",
    "version": 3
   },
   "file_extension": ".py",
   "mimetype": "text/x-python",
   "name": "python",
   "nbconvert_exporter": "python",
   "pygments_lexer": "ipython3",
   "version": "3.6.4"
  }
 },
 "nbformat": 4,
 "nbformat_minor": 2
}
