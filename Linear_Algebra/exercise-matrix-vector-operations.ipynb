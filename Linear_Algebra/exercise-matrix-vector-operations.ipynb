{
 "cells": [
  {
   "cell_type": "markdown",
   "metadata": {
    "slideshow": {
     "slide_type": "slide"
    }
   },
   "source": [
    "# Machine Learning Fundamentals - Linear Algebra - Exercise: Matrix and Vector Operations"
   ]
  },
  {
   "cell_type": "markdown",
   "metadata": {
    "slideshow": {
     "slide_type": "slide"
    }
   },
   "source": [
    "## Table of Contents\n",
    "* [Introduction](#Introduction)\n",
    "* [Requirements](#Requirements) \n",
    "  * [Knowledge](#Knowledge) \n",
    "  * [Modules](#Python-Modules)\n",
    "  * [Data](#Data)\n",
    "* [Exercise: Pen and Paper Calculation](#Pen-and-Paper-Calculation)\n",
    "* [Exercise: Implementation of Basic Operations](#Implmentation-of-Basic-Operations)\n",
    "  * [Vector Addition](#Vector-Addition)\n",
    "  * [Vector Subtraction](#Vector-Subtraction)\n",
    "  * [Scalar Multiplication](#Scalar-Multiplication)\n",
    "  * [Dot Product](#Dot-Product)\n",
    "  * [Matrix Multiplication](#Matrix-Multiplication)\n",
    "  * [Transpose](#Transpose)\n",
    "* [Summary and Outlook](#Summary-and-Outlook)\n",
    "* [Literature](#Literature) \n",
    "* [Licenses](#Licenses) "
   ]
  },
  {
   "cell_type": "markdown",
   "metadata": {
    "slideshow": {
     "slide_type": "slide"
    }
   },
   "source": [
    "## Introduction\n",
    "This exercise tests knowledge in basics in linear algebra. Knowledge about matrices, vectors, and their operations are essential in understanding more complex machine learning topics, like neural networks. Safe handling of domain-specific notation and concepts is therefore necessary.  "
   ]
  },
  {
   "cell_type": "markdown",
   "metadata": {
    "slideshow": {
     "slide_type": "slide"
    }
   },
   "source": [
    "## Requirements\n",
    "\n",
    "### Knowledge\n",
    "\n",
    "- Chapter 2 of [Deep Learning](http://www.deeplearningbook.org/contents/ml.html) by Ian Goodfellow gives a brief introduction into the field\n",
    "- [Linear Algebra](http://joshua.smcvt.edu/linearalgebra/#current_version) by Jim Hefferson is a open-source textbook with a lot of good exercises\n",
    "- [Introduction to Linear Algebra](http://math.mit.edu/~gs/linearalgebra/) by Gilbert Strang ist a good domain specific textbook\n",
    "- [Coding the Matrix: Linear Algebra through Applications to Computer Science](http://codingthematrix.com/) by Philip Klein is focused on a computer science viewpoint"
   ]
  },
  {
   "cell_type": "markdown",
   "metadata": {
    "slideshow": {
     "slide_type": "slide"
    }
   },
   "source": [
    "### Python Modules"
   ]
  },
  {
   "cell_type": "code",
   "execution_count": 3,
   "metadata": {
    "slideshow": {
     "slide_type": "slide"
    }
   },
   "outputs": [],
   "source": [
    "# External Modules\n",
    "import numpy as np"
   ]
  },
  {
   "cell_type": "markdown",
   "metadata": {
    "slideshow": {
     "slide_type": "slide"
    }
   },
   "source": [
    "### Data\n",
    "Given are the following matrice:\n",
    "\n",
    "\\begin{equation}\n",
    "    A =\n",
    "    \\begin{pmatrix}\n",
    "    4 & 4 & 5 \\\\\n",
    "    2 & 1 & 7 \\\\\n",
    "    4 & 8 & 3\n",
    "    \\end{pmatrix}\n",
    "    ,\n",
    "    B =\n",
    "    \\begin{pmatrix}\n",
    "    1 & 6 \\\\\n",
    "    3 & 1 \\\\\n",
    "    5 & 2\n",
    "    \\end{pmatrix}\n",
    "    ,\n",
    "    C =\n",
    "    \\begin{pmatrix}\n",
    "    1 & 4 & 4 \\\\\n",
    "    3 & 1 & 2\\\\\n",
    "    6 & 7 & 1\n",
    "    \\end{pmatrix}\n",
    "\\end{equation}\n",
    "\n",
    "\n",
    "and following vectors:\n",
    "\n",
    "\\begin{equation}\n",
    "    \\vec{x} =\n",
    "    \\begin{pmatrix}\n",
    "    9 \\\\\n",
    "    5 \\\\\n",
    "    7\n",
    "    \\end{pmatrix}\n",
    "    ,\n",
    "    \\vec{y} =\n",
    "    \\begin{pmatrix}\n",
    "    3 \\\\\n",
    "    1 \\\\\n",
    "    5\n",
    "    \\end{pmatrix}\n",
    "\\end{equation}"
   ]
  },
  {
   "cell_type": "code",
   "execution_count": 5,
   "metadata": {
    "slideshow": {
     "slide_type": "slide"
    }
   },
   "outputs": [],
   "source": [
    "# Matrices\n",
    "A = ([4,4,5],\n",
    "     [2,1,7],\n",
    "     [4,8,3])\n",
    "\n",
    "B = ([1,6],\n",
    "     [3,1],\n",
    "     [5,2])\n",
    "\n",
    "C = ([1,4,4],\n",
    "     [3,1,2],\n",
    "     [6,7,1])\n",
    "\n",
    "# Vectors\n",
    "x = (9,5,7)\n",
    "y = (3,1,5)"
   ]
  },
  {
   "cell_type": "code",
   "execution_count": 10,
   "metadata": {},
   "outputs": [
    {
     "name": "stdout",
     "output_type": "stream",
     "text": [
      "67\n",
      "[[41 38]\n",
      " [40 27]\n",
      " [43 38]]\n",
      "[[46 55 29]\n",
      " [47 58 17]\n",
      " [46 45 35]]\n",
      "[[28 40 45]\n",
      " [22 29 28]\n",
      " [42 39 82]]\n",
      "[[46 55 29]\n",
      " [47 58 17]\n",
      " [46 45 35]]\n",
      "[[ 4 16 20]\n",
      " [ 6  1 14]\n",
      " [24 56  3]]\n"
     ]
    }
   ],
   "source": [
    "#np vector\n",
    "x = np.array([9,5,7])\n",
    "y = np.array([3,1,5])\n",
    "print(x.dot(y))# нельзя?\n",
    "print(x.dot(y.T))\n",
    "\n",
    "# np matrixes\n",
    "A = np.array(A)\n",
    "B = np.array(B)\n",
    "C = np.array(C)\n",
    "print(A.dot(B))\n",
    "#print(B.dot(A.T)) # нельзя\n",
    "print(A.dot(C))\n",
    "print(C.dot(A))\n",
    "print(C.T.dot(A.T).T)\n",
    "print(A*C) # Hadamard/Shur Product"
   ]
  },
  {
   "cell_type": "markdown",
   "metadata": {
    "slideshow": {
     "slide_type": "slide"
    }
   },
   "source": [
    "## Pen and Paper Calculation\n",
    "Solve following calculations by hand or write some latex in that notebook.\n",
    "\n",
    "1.  $\\vec{x} * \\vec{y}$ (dot or inner product)\n",
    "2.  $\\vec{x} * \\vec{y}^T$\n",
    "3.  $A * B$\n",
    "4.  $B * A$\n",
    "5.  $A * C$\n",
    "6.  $C * A$\n",
    "7.  $(C^T * A^T)T$\n",
    "8.  $A \\circ C$ (Hadamard or Schur product)\n",
    "9.  $ \\left  \\langle A,C \\right \\rangle_F $ (Frobenius inner product)"
   ]
  },
  {
   "cell_type": "markdown",
   "metadata": {
    "slideshow": {
     "slide_type": "slide"
    }
   },
   "source": [
    "## Implmentation of Basic Operations\n",
    "Implement the following functions using the data structure `List` only. The results should be the same as the corresponding Numpy implementation."
   ]
  },
  {
   "cell_type": "markdown",
   "metadata": {
    "slideshow": {
     "slide_type": "slide"
    }
   },
   "source": [
    "### Vector Addition"
   ]
  },
  {
   "cell_type": "code",
   "execution_count": 93,
   "metadata": {
    "slideshow": {
     "slide_type": "slide"
    }
   },
   "outputs": [],
   "source": [
    "# Vectors\n",
    "x = (9,5,7)\n",
    "y = (3,1,5)\n",
    "# list\n",
    "a = list([9,5,7])\n",
    "b = list([3,1,5])\n",
    "\n",
    "def vector_add(a, b):\n",
    "    ''' Adds two given vectors a and b: https://en.wikipedia.org/wiki/Euclidean_vector\n",
    "    \n",
    "    params:\n",
    "        a: A list representing vector a\n",
    "        b: A list representing vector b\n",
    "    returns:\n",
    "        [x_1 + y_1, x_2 + y_2, ... , x_n + y_n]\n",
    "    '''\n",
    "    l = list([])\n",
    "    for i, item in enumerate(a):\n",
    "        l.append(a[i] + b[i])\n",
    "            \n",
    "    return l\n",
    "\n",
    "# Test\n",
    "np.testing.assert_array_almost_equal(vector_add(a,b), np.add(x,y), verbose=True)"
   ]
  },
  {
   "cell_type": "markdown",
   "metadata": {
    "slideshow": {
     "slide_type": "slide"
    }
   },
   "source": [
    "### Vector Subtraction"
   ]
  },
  {
   "cell_type": "code",
   "execution_count": 96,
   "metadata": {
    "slideshow": {
     "slide_type": "slide"
    }
   },
   "outputs": [],
   "source": [
    "# Vectors\n",
    "x = (9,5,7)\n",
    "y = (3,1,5)\n",
    "# list\n",
    "a = list([9,5,7])\n",
    "b = list([3,1,5])\n",
    "\n",
    "def vector_sub(a, b):\n",
    "    ''' Subtracts two given vectors a and b: https://en.wikipedia.org/wiki/Euclidean_vector\n",
    "    \n",
    "    params:\n",
    "        a: A list representing vector a\n",
    "        b: A list representing vector b\n",
    "    returns:\n",
    "        [x_1 - y_1, x_2 - y_2, ... , x_n - y_n]\n",
    "    '''\n",
    "    l = list([])\n",
    "    for i, item in enumerate(a):\n",
    "        l.append(a[i] - b[i])\n",
    "        \n",
    "    return l\n",
    "\n",
    "# Testing\n",
    "np.testing.assert_array_almost_equal(vector_sub(a,b), np.subtract(x,y), verbose=True)"
   ]
  },
  {
   "cell_type": "markdown",
   "metadata": {
    "slideshow": {
     "slide_type": "slide"
    }
   },
   "source": [
    "### Scalar Multiplication"
   ]
  },
  {
   "cell_type": "code",
   "execution_count": 147,
   "metadata": {
    "slideshow": {
     "slide_type": "slide"
    }
   },
   "outputs": [
    {
     "name": "stdout",
     "output_type": "stream",
     "text": [
      "[[12 12 15]\n",
      " [ 6  3 21]\n",
      " [12 24  9]]\n",
      "[[12 12 15]\n",
      " [ 6  3 21]\n",
      " [12 24  9]]\n"
     ]
    }
   ],
   "source": [
    "B = ([4,4,5],\n",
    "     [2,1,7],\n",
    "     [4,8,3])\n",
    "\n",
    "A = ([4,4,5],\n",
    "     [2,1,7],\n",
    "     [4,8,3])\n",
    "\n",
    "print(np.multiply(sca,A))\n",
    "\n",
    "def scalar_mul(r, A):\n",
    "    ''' Multiply each element of a matrix or vector by a scalar 'r': https://en.wikipedia.org/wiki/Scalar_multiplication\n",
    "    \n",
    "    params:\n",
    "        r: Scalar\n",
    "        A: Vector or matrix\n",
    "    returns:\n",
    "         A vector or matrix with the same dimesion like 'A' but each element multiplied by r\n",
    "    '''\n",
    "    \n",
    "\n",
    "    for i, item in enumerate(A):\n",
    "        for j, item2 in enumerate(item):\n",
    "            A[i][j] = A[i][j]*r\n",
    "    \n",
    "    return np.array(A)\n",
    "\n",
    "# Testing\n",
    "sca = 3\n",
    "np.testing.assert_array_almost_equal(scalar_mul(sca,B), np.multiply(sca,A), verbose=True)"
   ]
  },
  {
   "cell_type": "markdown",
   "metadata": {
    "slideshow": {
     "slide_type": "slide"
    }
   },
   "source": [
    "### Dot Product"
   ]
  },
  {
   "cell_type": "code",
   "execution_count": 164,
   "metadata": {
    "slideshow": {
     "slide_type": "slide"
    }
   },
   "outputs": [],
   "source": [
    "x = (9,5,7)\n",
    "y = (3,1,5)\n",
    "\n",
    "def vec_dot(a, b):\n",
    "    ''' Sum of the product of corresponding elements: https://en.wikipedia.org/wiki/Dot_product\n",
    "    \n",
    "    params:\n",
    "        a: Vector \n",
    "        b: Vector\n",
    "    returns:\n",
    "        x_1 * y_1 + x_2 * y_2 + ... + x_n * y_n \n",
    "    ''' \n",
    "    l = list([])\n",
    "    for i, item in enumerate(a):\n",
    "        for j, item2 in enumerate(b):\n",
    "            l.append(a[i] * b[i])\n",
    "            break\n",
    "    \n",
    "    d = 0\n",
    "    for c in l:\n",
    "        d = d + c\n",
    "    \n",
    "    return d\n",
    "    \n",
    "\n",
    "# Testing\n",
    "np.testing.assert_array_almost_equal(vec_dot(x,y), np.dot(x,y), verbose=True)"
   ]
  },
  {
   "cell_type": "markdown",
   "metadata": {
    "slideshow": {
     "slide_type": "slide"
    }
   },
   "source": [
    "### Matrix Multiplication"
   ]
  },
  {
   "cell_type": "code",
   "execution_count": 214,
   "metadata": {
    "slideshow": {
     "slide_type": "slide"
    }
   },
   "outputs": [
    {
     "name": "stdout",
     "output_type": "stream",
     "text": [
      "[[44 60 63]\n",
      " [38 65 38]\n",
      " [44 48 85]]\n",
      "([44, 60, 63], [38, 65, 38], [44, 48, 85])\n"
     ]
    }
   ],
   "source": [
    "# Matrices\n",
    "A = ([4,4,5],\n",
    "     [2,1,7],\n",
    "     [4,8,3])\n",
    "\n",
    "B = ([4,4,5],\n",
    "     [2,1,7],\n",
    "     [4,8,3])\n",
    "\n",
    "C = ([4,4,5],\n",
    "     [2,1,7],\n",
    "     [4,8,3])\n",
    "\n",
    "\n",
    "print(np.matmul(A,B))\n",
    "\n",
    "def matrix_mult(A, B):\n",
    "    ''' Computes the product of two matrices: https://en.wikipedia.org/wiki/Matrix_multiplication \n",
    "    \n",
    "    params:\n",
    "        A: Matrix with dimensions NxP\n",
    "        B: Matrix with dimensions PxM\n",
    "    returns:\n",
    "        NxM matrix with each element c_i_j = a_i_1 * b_1_j + ... + a_i_p * b_p_j\n",
    "    ''' \n",
    "    # transpose second matrix and do vec_dot\n",
    "    \n",
    "    B = matrix_transpose(B)\n",
    "    \n",
    "    matrix = C\n",
    "    \n",
    "    for i, item in enumerate(A):\n",
    "        for j, item2 in enumerate(B):\n",
    "            matrix[i][j] = vec_dot(item, item2)\n",
    "            \n",
    "    print(matrix)\n",
    "    \n",
    "    return matrix\n",
    "\n",
    "# Testing\n",
    "np.testing.assert_array_almost_equal(matrix_mult(A,B), np.matmul(A,B), verbose=True)"
   ]
  },
  {
   "cell_type": "markdown",
   "metadata": {
    "slideshow": {
     "slide_type": "slide"
    }
   },
   "source": [
    "### Transpose"
   ]
  },
  {
   "cell_type": "code",
   "execution_count": 11,
   "metadata": {
    "slideshow": {
     "slide_type": "slide"
    }
   },
   "outputs": [],
   "source": [
    "A = ([4,4,5],\n",
    "     [2,1,7],\n",
    "     [4,8,3])\n",
    "\n",
    "B = ([1,6],\n",
    "     [3,1],\n",
    "     [5,2])\n",
    "\n",
    "C = ([1,3,5],\n",
    "     [6,1,2])\n",
    "\n",
    "\n",
    "def matrix_transpose(A):\n",
    "    ''' Flips the matrix over its diagonal, switches the row and column indices of the matrix: https://en.wikipedia.org/wiki/Transpose\n",
    "    \n",
    "    params:\n",
    "        A: Matrix \n",
    "    returns:\n",
    "        Transpose A^T of given matrix A\n",
    "    ''' \n",
    "    num_iter = len(A[0])\n",
    "    \n",
    "    matrix = list([])\n",
    "    for i in range(num_iter):\n",
    "        row = list([])\n",
    "        for j, item in enumerate(A):\n",
    "            row.append(item[i])\n",
    "        \n",
    "        matrix.append(row)\n",
    "    \n",
    "    return np.array(matrix)\n",
    "\n",
    "# Testing\n",
    "np.testing.assert_array_almost_equal(matrix_transpose(A), np.transpose(A), verbose=True)"
   ]
  },
  {
   "cell_type": "markdown",
   "metadata": {
    "slideshow": {
     "slide_type": "slide"
    }
   },
   "source": [
    "## Summary and Outlook\n",
    "\n",
    "This exercise covered basic operations on vectors and matrices. If the exercise was too complicated, consider the sources mentioned above for a recap. "
   ]
  },
  {
   "cell_type": "markdown",
   "metadata": {
    "slideshow": {
     "slide_type": "slide"
    }
   },
   "source": [
    "## Licenses\n",
    "\n",
    "### Notebook License (CC-BY-SA 4.0)\n",
    "\n",
    "*The following license applies to the complete notebook, including code cells. It does however not apply to any referenced external media (e.g., images).*\n",
    "\n",
    "Exercise: Matrix and Vector Operations <br/>\n",
    "by Benjamin Voigt <br/>\n",
    "is licensed under a [Creative Commons Attribution-ShareAlike 4.0 International License](http://creativecommons.org/licenses/by-sa/4.0/).<br/>\n",
    "Based on a work at https://gitlab.com/deep.TEACHING.\n",
    "\n",
    "\n",
    "### Code License (MIT)\n",
    "\n",
    "*The following license only applies to code cells of the notebook.*\n",
    "\n",
    "Copyright 2018 Benjamin Voigt\n",
    "\n",
    "Permission is hereby granted, free of charge, to any person obtaining a copy of this software and associated documentation files (the \"Software\"), to deal in the Software without restriction, including without limitation the rights to use, copy, modify, merge, publish, distribute, sublicense, and/or sell copies of the Software, and to permit persons to whom the Software is furnished to do so, subject to the following conditions:\n",
    "\n",
    "The above copyright notice and this permission notice shall be included in all copies or substantial portions of the Software.\n",
    "\n",
    "THE SOFTWARE IS PROVIDED \"AS IS\", WITHOUT WARRANTY OF ANY KIND, EXPRESS OR IMPLIED, INCLUDING BUT NOT LIMITED TO THE WARRANTIES OF MERCHANTABILITY, FITNESS FOR A PARTICULAR PURPOSE AND NONINFRINGEMENT. IN NO EVENT SHALL THE AUTHORS OR COPYRIGHT HOLDERS BE LIABLE FOR ANY CLAIM, DAMAGES OR OTHER LIABILITY, WHETHER IN AN ACTION OF CONTRACT, TORT OR OTHERWISE, ARISING FROM, OUT OF OR IN CONNECTION WITH THE SOFTWARE OR THE USE OR OTHER DEALINGS IN THE SOFTWARE."
   ]
  }
 ],
 "metadata": {
  "celltoolbar": "Slideshow",
  "kernelspec": {
   "display_name": "Python 3",
   "language": "python",
   "name": "python3"
  },
  "language_info": {
   "codemirror_mode": {
    "name": "ipython",
    "version": 3
   },
   "file_extension": ".py",
   "mimetype": "text/x-python",
   "name": "python",
   "nbconvert_exporter": "python",
   "pygments_lexer": "ipython3",
   "version": "3.6.4"
  }
 },
 "nbformat": 4,
 "nbformat_minor": 2
}
